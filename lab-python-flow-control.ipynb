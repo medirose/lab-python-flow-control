{
 "cells": [
  {
   "cell_type": "markdown",
   "id": "d3bfc191-8885-42ee-b0a0-bbab867c6f9f",
   "metadata": {
    "tags": []
   },
   "source": [
    "# Lab | Flow Control"
   ]
  },
  {
   "cell_type": "markdown",
   "id": "3851fcd1-cf98-4653-9c89-e003b7ec9400",
   "metadata": {},
   "source": [
    "## Exercise: Managing Customer Orders Optimized\n",
    "\n",
    "In the last lab, you were starting an online store that sells various products. To ensure smooth operations, you developed a program that manages customer orders and inventory.\n",
    "\n",
    "You did so without using flow control. Let's go a step further and improve this code.\n",
    "\n",
    "Follow the steps below to complete the exercise:\n",
    "\n",
    "1. Look at your code from the lab data structures, and improve repeated code with loops.\n",
    "\n",
    "2. Instead of asking the user to input the name of three products that a customer wants to order, do the following:\n",
    "    \n",
    "    a. Prompt the user to enter the name of a product that a customer wants to order.\n",
    "    \n",
    "    b. Add the product name to the \"customer_orders\" set.\n",
    "    \n",
    "    c. Ask the user if they want to add another product (yes/no).\n",
    "    \n",
    "    d. Continue the loop until the user does not want to add another product.\n",
    "\n",
    "3. Instead of updating the inventory by subtracting 1 from the quantity of each product, only do it for  the products that were ordered (those in \"customer_orders\")."
   ]
  },
  {
   "cell_type": "code",
   "execution_count": 41,
   "id": "1eecdd4d",
   "metadata": {},
   "outputs": [
    {
     "name": "stdout",
     "output_type": "stream",
     "text": [
      "tshirt\n",
      "book\n",
      "mug\n",
      "hat\n",
      "keychain\n"
     ]
    }
   ],
   "source": [
    "products = ['tshirt', 'book', 'mug', 'hat', 'keychain']\n",
    "\n",
    "for inventory in products:\n",
    "    print(inventory), (int(input('Quantity of inventory: ')))"
   ]
  },
  {
   "cell_type": "code",
   "execution_count": 42,
   "id": "ccd4497b",
   "metadata": {},
   "outputs": [],
   "source": [
    "inventory = {\"tshirt\": 10, \"book\": 20, \"mug\": 30, \"hat\": 40, \"keychain\": 50}"
   ]
  },
  {
   "cell_type": "code",
   "execution_count": 43,
   "id": "eb3a0222",
   "metadata": {},
   "outputs": [],
   "source": [
    "customer_order = ()"
   ]
  },
  {
   "cell_type": "code",
   "execution_count": 44,
   "id": "5b014fcc",
   "metadata": {},
   "outputs": [],
   "source": [
    "customer_order = (input(\"please pick a product from the product list: \"))"
   ]
  },
  {
   "cell_type": "code",
   "execution_count": 45,
   "id": "85290144",
   "metadata": {},
   "outputs": [],
   "source": [
    "while True:\n",
    "    choice = input(\"Do you want to add another product? (yes/no): \")\n",
    "    if choice.lower() != 'yes':\n",
    "        break\n",
    "    print(\"Thank you for your order!\")"
   ]
  },
  {
   "cell_type": "code",
   "execution_count": 46,
   "id": "6d4179cd",
   "metadata": {},
   "outputs": [
    {
     "ename": "TypeError",
     "evalue": "'in <string>' requires string as left operand, not list",
     "output_type": "error",
     "traceback": [
      "\u001b[0;31m---------------------------------------------------------------------------\u001b[0m",
      "\u001b[0;31mTypeError\u001b[0m                                 Traceback (most recent call last)",
      "Cell \u001b[0;32mIn[46], line 2\u001b[0m\n\u001b[1;32m      1\u001b[0m \u001b[38;5;28;01mfor\u001b[39;00m inventory \u001b[38;5;129;01min\u001b[39;00m customer_order:\n\u001b[0;32m----> 2\u001b[0m     \u001b[38;5;28;01mif\u001b[39;00m products \u001b[38;5;129;01min\u001b[39;00m inventory:\n\u001b[1;32m      3\u001b[0m         inventory[products] \u001b[38;5;241m-\u001b[39m\u001b[38;5;241m=\u001b[39m \u001b[38;5;241m1\u001b[39m\n\u001b[1;32m      4\u001b[0m         \u001b[38;5;28mprint\u001b[39m(\u001b[38;5;124m'\u001b[39m\u001b[38;5;124mUpdated Inventory: \u001b[39m\u001b[38;5;124m'\u001b[39m, inventory)\n",
      "\u001b[0;31mTypeError\u001b[0m: 'in <string>' requires string as left operand, not list"
     ]
    }
   ],
   "source": [
    "for inventory in customer_order:\n",
    "    if products in inventory:\n",
    "        inventory[products] -= 1\n",
    "        print('Updated Inventory: ', inventory)   "
   ]
  }
 ],
 "metadata": {
  "kernelspec": {
   "display_name": "Python 3 (ipykernel)",
   "language": "python",
   "name": "python3"
  },
  "language_info": {
   "codemirror_mode": {
    "name": "ipython",
    "version": 3
   },
   "file_extension": ".py",
   "mimetype": "text/x-python",
   "name": "python",
   "nbconvert_exporter": "python",
   "pygments_lexer": "ipython3",
   "version": "3.11.7"
  }
 },
 "nbformat": 4,
 "nbformat_minor": 5
}
